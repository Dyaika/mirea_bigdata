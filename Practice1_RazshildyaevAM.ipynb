{
 "cells": [
  {
   "cell_type": "markdown",
   "id": "8a78c0f1-9c16-4fa1-b777-77f8b6594d48",
   "metadata": {},
   "source": [
    "Написать программу, которая вычисляет площадь фигуры,\n",
    "параметры которой подаются на вход. Фигуры, которые подаются на вход:\n",
    "треугольник, прямоугольник, круг. Результатом работы является словарь, где\n",
    "ключ – это название фигуры, а значение – это площадь."
   ]
  },
  {
   "cell_type": "code",
   "execution_count": 14,
   "id": "ad042176-db67-4bbe-af6c-37021d69c012",
   "metadata": {},
   "outputs": [
    {
     "name": "stdout",
     "output_type": "stream",
     "text": [
      "Выберите фигуру:\n",
      "1 - треугольник\n",
      "2 - прямоугольник\n",
      "3 - круг\n"
     ]
    },
    {
     "name": "stdin",
     "output_type": "stream",
     "text": [
      " 3\n"
     ]
    },
    {
     "name": "stdout",
     "output_type": "stream",
     "text": [
      "Введите значение радиуса r: \n"
     ]
    },
    {
     "name": "stdin",
     "output_type": "stream",
     "text": [
      " 3\n"
     ]
    },
    {
     "name": "stdout",
     "output_type": "stream",
     "text": [
      "Площадь круга:  28.27433388230811\n"
     ]
    }
   ],
   "source": [
    "print('Выберите фигуру:\\n1 - треугольник\\n2 - прямоугольник\\n3 - круг')\n",
    "choice = int(input())\n",
    "match choice:\n",
    "    case 1:\n",
    "        print('Введите значения для сторон a b c через пробел: ')\n",
    "        (a, b, c) = [int(i) for i in(input().split())]\n",
    "        p = (a + b + c) / 2\n",
    "        result = (p * (p - a) * (p - b) * (p - c)) ** 0.5\n",
    "        print('Площадь треугольника: ', result)\n",
    "    case 2:\n",
    "        print('Введите значения для сторон a b через пробел: ')\n",
    "        (a, b) = [int(i) for i in(input().split())]\n",
    "        print('Площадь прямоугольника: ', a * b)\n",
    "    case 3:\n",
    "        print('Введите значение радиуса r: ')\n",
    "        r = int(input())\n",
    "        pi = 3.14159265358979\n",
    "        result = pi * r ** 2\n",
    "        print('Площадь круга: ', result)\n",
    "        "
   ]
  },
  {
   "cell_type": "markdown",
   "id": "cf82b2ec-b613-4295-97a7-1ee5324361b5",
   "metadata": {},
   "source": [
    "Написать программу, которая на вход получает два числа и\n",
    "операцию, которую к ним нужно применить. Должны быть реализованы\n",
    "следующие операции: +, -, /, //, abs – модуль, pow или ** – возведение в\n",
    "степень."
   ]
  },
  {
   "cell_type": "code",
   "execution_count": null,
   "id": "bece1928-a4f8-4d41-9fc1-15bd6a3665a4",
   "metadata": {},
   "outputs": [],
   "source": [
    "a = int(input())\n",
    "b = int(input())\n",
    "sign = input()\n",
    "match sign:\n",
    "    case '+':\n",
    "        print(a + b)\n",
    "    case '-':\n",
    "        print(a - b)\n",
    "    case '/':\n",
    "        print(a / b)\n",
    "    case '//':\n",
    "        print(a // b)\n",
    "    case 'abs':\n",
    "        print(abs(a))\n",
    "        print(abs(b))\n",
    "    case 'pow' | '**':\n",
    "        print(a ** b)"
   ]
  },
  {
   "cell_type": "markdown",
   "id": "b3b03437-1cc7-43e0-87e4-b345ba73e4a8",
   "metadata": {},
   "source": [
    "Напишите программу, которая считывает с консоли числа (по\n",
    "одному в строке) до тех пор, пока сумма введённых чисел не будет равна 0 и\n",
    "после этого выводит сумму квадратов всех считанных чисел"
   ]
  },
  {
   "cell_type": "code",
   "execution_count": 15,
   "id": "04bebdc1-cb72-45db-95d0-3ec7ae0cdac7",
   "metadata": {},
   "outputs": [
    {
     "name": "stdin",
     "output_type": "stream",
     "text": [
      " 1\n",
      " 2\n",
      " 3\n",
      " -5\n",
      " -1\n"
     ]
    },
    {
     "name": "stdout",
     "output_type": "stream",
     "text": [
      "40\n"
     ]
    }
   ],
   "source": [
    "arr = []\n",
    "arr.append(int(input()))\n",
    "while sum(arr) != 0:\n",
    "    arr.append(int(input()))\n",
    "arr = [i ** 2 for i in arr]\n",
    "print(sum(arr))"
   ]
  },
  {
   "cell_type": "markdown",
   "id": "cd353079-f4a7-4b2e-851a-cf226291714a",
   "metadata": {},
   "source": [
    "Напишите программу, которая выводит последовательность\n",
    "чисел, длинною N, где каждое число повторяется столько раз, чему оно равно.\n",
    "На вход программе передаётся неотрицательное целое число N. Например,\n",
    "если N = 7, то программа должна вывести 1 2 2 3 3 3 4. Вывод элементов списка\n",
    "через пробел – print(*list)."
   ]
  },
  {
   "cell_type": "code",
   "execution_count": 17,
   "id": "ca6001f1-3a14-418c-8ab3-781a8e6b2033",
   "metadata": {},
   "outputs": [
    {
     "name": "stdin",
     "output_type": "stream",
     "text": [
      " 7\n"
     ]
    },
    {
     "name": "stdout",
     "output_type": "stream",
     "text": [
      "1 2 2 3 3 3 4 "
     ]
    }
   ],
   "source": [
    "n = int(input())\n",
    "current = 1\n",
    "counter = 1\n",
    "for i in range(n):\n",
    "    print(current, end = ' ')\n",
    "    counter -= 1\n",
    "    if (counter == 0):\n",
    "        current += 1\n",
    "        counter = current\n",
    "    "
   ]
  },
  {
   "cell_type": "markdown",
   "id": "27060eb6-1269-4da0-921c-f3ebeb0dbc0b",
   "metadata": {},
   "source": [
    "Даны два списка:\n",
    "А = [1, 2, 3, 4, 2, 1, 3, 4, 5, 6, 5, 4, 3, 2]\n",
    "В = [‘a’, ’b’, ’c’, ’c’, ’c’, ’b’, ’a’, ’c’, ’a’, ’a’, ’b’, ’c’, ’b’, ’a’]\n",
    "Создать словарь, в котором ключи – это содержимое списка В, а\n",
    "значения для ключей словаря – это сумма всех элементов списка А в\n",
    "соответствии с буквой, содержащийся на той же позиции в списке В.\n",
    "Пример результата программы: {‘a’ : 10, ‘b’ : 15, ‘c’ : 6}"
   ]
  },
  {
   "cell_type": "code",
   "execution_count": 5,
   "id": "495c1b97-877e-4938-8f0b-21483d1d96b4",
   "metadata": {},
   "outputs": [
    {
     "name": "stdout",
     "output_type": "stream",
     "text": [
      "{'c': 17, 'b': 11, 'a': 17}\n"
     ]
    }
   ],
   "source": [
    "A = [1, 2, 3, 4, 2, 1, 3, 4, 5, 6, 5, 4, 3, 2]\n",
    "B = ['a', 'b', 'c', 'c', 'c', 'b', 'a', 'c', 'a', 'a', 'b', 'c', 'b', 'a']\n",
    "B_set = set(B)\n",
    "C = {}\n",
    "for i in B_set:\n",
    "    C[i] = 0\n",
    "for i in range (len(A)):\n",
    "    C[B[i]] += A[i]\n",
    "\n",
    "print(C)"
   ]
  },
  {
   "cell_type": "code",
   "execution_count": null,
   "id": "1490976e-ddec-4aa3-86c8-44f94a30a6a3",
   "metadata": {},
   "outputs": [],
   "source": []
  }
 ],
 "metadata": {
  "kernelspec": {
   "display_name": "Python 3 (ipykernel)",
   "language": "python",
   "name": "python3"
  },
  "language_info": {
   "codemirror_mode": {
    "name": "ipython",
    "version": 3
   },
   "file_extension": ".py",
   "mimetype": "text/x-python",
   "name": "python",
   "nbconvert_exporter": "python",
   "pygments_lexer": "ipython3",
   "version": "3.12.4"
  }
 },
 "nbformat": 4,
 "nbformat_minor": 5
}
