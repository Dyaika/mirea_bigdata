{
 "cells": [
  {
   "cell_type": "markdown",
   "id": "8a78c0f1-9c16-4fa1-b777-77f8b6594d48",
   "metadata": {},
   "source": [
    "# 2.\n",
    "Написать программу, которая вычисляет площадь фигуры,\n",
    "параметры которой подаются на вход. Фигуры, которые подаются на вход:\n",
    "треугольник, прямоугольник, круг. Результатом работы является словарь, где\n",
    "ключ – это название фигуры, а значение – это площадь."
   ]
  },
  {
   "cell_type": "code",
   "execution_count": 30,
   "id": "ad042176-db67-4bbe-af6c-37021d69c012",
   "metadata": {},
   "outputs": [
    {
     "name": "stdout",
     "output_type": "stream",
     "text": [
      "Выберите фигуру:\n",
      "1 - треугольник\n",
      "2 - прямоугольник\n",
      "3 - круг\n"
     ]
    },
    {
     "name": "stdin",
     "output_type": "stream",
     "text": [
      " 3\n"
     ]
    },
    {
     "name": "stdout",
     "output_type": "stream",
     "text": [
      "Введите значение радиуса r: \n"
     ]
    },
    {
     "name": "stdin",
     "output_type": "stream",
     "text": [
      " 3\n"
     ]
    },
    {
     "name": "stdout",
     "output_type": "stream",
     "text": [
      "Площадь круга:  28.27433388230811\n"
     ]
    }
   ],
   "source": [
    "print('Выберите фигуру:\\n1 - треугольник\\n2 - прямоугольник\\n3 - круг')\n",
    "choice = int(input())\n",
    "match choice:\n",
    "    case 1:\n",
    "        print('Введите значения для сторон a b c через пробел: ')\n",
    "        (a, b, c) = [int(i) for i in(input().split())]\n",
    "        p = (a + b + c) / 2\n",
    "        result = (p * (p - a) * (p - b) * (p - c)) ** 0.5\n",
    "        print('Площадь треугольника: ', result)\n",
    "    case 2:\n",
    "        print('Введите значения для сторон a b через пробел: ')\n",
    "        (a, b) = [int(i) for i in(input().split())]\n",
    "        print('Площадь прямоугольника: ', a * b)\n",
    "    case 3:\n",
    "        print('Введите значение радиуса r: ')\n",
    "        r = int(input())\n",
    "        pi = 3.14159265358979\n",
    "        result = pi * r ** 2\n",
    "        print('Площадь круга: ', result)\n",
    "        "
   ]
  },
  {
   "cell_type": "markdown",
   "id": "cf82b2ec-b613-4295-97a7-1ee5324361b5",
   "metadata": {},
   "source": [
    "# 3.\n",
    "Написать программу, которая на вход получает два числа и\n",
    "операцию, которую к ним нужно применить. Должны быть реализованы\n",
    "следующие операции: +, -, /, //, abs – модуль, pow или ** – возведение в\n",
    "степень."
   ]
  },
  {
   "cell_type": "code",
   "execution_count": 32,
   "id": "bece1928-a4f8-4d41-9fc1-15bd6a3665a4",
   "metadata": {},
   "outputs": [
    {
     "name": "stdin",
     "output_type": "stream",
     "text": [
      " 2\n",
      " 2\n",
      " -\n"
     ]
    },
    {
     "name": "stdout",
     "output_type": "stream",
     "text": [
      "0\n"
     ]
    }
   ],
   "source": [
    "a = int(input())\n",
    "b = int(input())\n",
    "sign = input()\n",
    "match sign:\n",
    "    case '+':\n",
    "        print(a + b)\n",
    "    case '-':\n",
    "        print(a - b)\n",
    "    case '/':\n",
    "        print(a / b)\n",
    "    case '//':\n",
    "        print(a // b)\n",
    "    case 'abs':\n",
    "        print(abs(a))\n",
    "        print(abs(b))\n",
    "    case 'pow' | '**':\n",
    "        print(a ** b)"
   ]
  },
  {
   "cell_type": "markdown",
   "id": "b3b03437-1cc7-43e0-87e4-b345ba73e4a8",
   "metadata": {},
   "source": [
    "# 4.\n",
    "Напишите программу, которая считывает с консоли числа (по\n",
    "одному в строке) до тех пор, пока сумма введённых чисел не будет равна 0 и\n",
    "после этого выводит сумму квадратов всех считанных чисел"
   ]
  },
  {
   "cell_type": "code",
   "execution_count": 34,
   "id": "04bebdc1-cb72-45db-95d0-3ec7ae0cdac7",
   "metadata": {},
   "outputs": [
    {
     "name": "stdin",
     "output_type": "stream",
     "text": [
      " 1\n",
      " 2\n",
      " -3\n"
     ]
    },
    {
     "name": "stdout",
     "output_type": "stream",
     "text": [
      "14\n"
     ]
    }
   ],
   "source": [
    "arr = []\n",
    "arr.append(int(input()))\n",
    "while sum(arr) != 0:\n",
    "    arr.append(int(input()))\n",
    "arr = [i ** 2 for i in arr]\n",
    "print(sum(arr))"
   ]
  },
  {
   "cell_type": "markdown",
   "id": "cd353079-f4a7-4b2e-851a-cf226291714a",
   "metadata": {},
   "source": [
    "# 5.\n",
    "Напишите программу, которая выводит последовательность\n",
    "чисел, длинною N, где каждое число повторяется столько раз, чему оно равно.\n",
    "На вход программе передаётся неотрицательное целое число N. Например,\n",
    "если N = 7, то программа должна вывести 1 2 2 3 3 3 4. Вывод элементов списка\n",
    "через пробел – print(*list)."
   ]
  },
  {
   "cell_type": "code",
   "execution_count": 36,
   "id": "ca6001f1-3a14-418c-8ab3-781a8e6b2033",
   "metadata": {},
   "outputs": [
    {
     "name": "stdin",
     "output_type": "stream",
     "text": [
      " 7\n"
     ]
    },
    {
     "name": "stdout",
     "output_type": "stream",
     "text": [
      "1 2 2 3 3 3 4 "
     ]
    }
   ],
   "source": [
    "n = int(input())\n",
    "current = 1\n",
    "counter = 1\n",
    "for i in range(n):\n",
    "    print(current, end = ' ')\n",
    "    counter -= 1\n",
    "    if (counter == 0):\n",
    "        current += 1\n",
    "        counter = current\n",
    "    "
   ]
  },
  {
   "cell_type": "markdown",
   "id": "27060eb6-1269-4da0-921c-f3ebeb0dbc0b",
   "metadata": {},
   "source": [
    "# 6.\n",
    "Даны два списка:\n",
    "А = [1, 2, 3, 4, 2, 1, 3, 4, 5, 6, 5, 4, 3, 2]\n",
    "В = [‘a’, ’b’, ’c’, ’c’, ’c’, ’b’, ’a’, ’c’, ’a’, ’a’, ’b’, ’c’, ’b’, ’a’]\n",
    "Создать словарь, в котором ключи – это содержимое списка В, а\n",
    "значения для ключей словаря – это сумма всех элементов списка А в\n",
    "соответствии с буквой, содержащийся на той же позиции в списке В.\n",
    "Пример результата программы: {‘a’ : 10, ‘b’ : 15, ‘c’ : 6}"
   ]
  },
  {
   "cell_type": "code",
   "execution_count": 38,
   "id": "495c1b97-877e-4938-8f0b-21483d1d96b4",
   "metadata": {},
   "outputs": [
    {
     "name": "stdout",
     "output_type": "stream",
     "text": [
      "{'b': 11, 'c': 17, 'a': 17}\n"
     ]
    }
   ],
   "source": [
    "A = [1, 2, 3, 4, 2, 1, 3, 4, 5, 6, 5, 4, 3, 2]\n",
    "B = ['a', 'b', 'c', 'c', 'c', 'b', 'a', 'c', 'a', 'a', 'b', 'c', 'b', 'a']\n",
    "B_set = set(B)\n",
    "C = {}\n",
    "for i in B_set:\n",
    "    C[i] = 0\n",
    "for i in range (len(A)):\n",
    "    C[B[i]] += A[i]\n",
    "\n",
    "print(C)"
   ]
  },
  {
   "cell_type": "markdown",
   "id": "d4009dd6-66c4-4b0b-bfc5-89b1c61e5dcd",
   "metadata": {},
   "source": [
    "# 7.\n",
    "Скачать и загрузить данные о стоимости домов в калифорнии,\n",
    "используя библиотеку sklearn."
   ]
  },
  {
   "cell_type": "code",
   "execution_count": 83,
   "id": "1490976e-ddec-4aa3-86c8-44f94a30a6a3",
   "metadata": {},
   "outputs": [
    {
     "data": {
      "text/html": [
       "<div>\n",
       "<style scoped>\n",
       "    .dataframe tbody tr th:only-of-type {\n",
       "        vertical-align: middle;\n",
       "    }\n",
       "\n",
       "    .dataframe tbody tr th {\n",
       "        vertical-align: top;\n",
       "    }\n",
       "\n",
       "    .dataframe thead th {\n",
       "        text-align: right;\n",
       "    }\n",
       "</style>\n",
       "<table border=\"1\" class=\"dataframe\">\n",
       "  <thead>\n",
       "    <tr style=\"text-align: right;\">\n",
       "      <th></th>\n",
       "      <th>MedInc</th>\n",
       "      <th>HouseAge</th>\n",
       "      <th>AveRooms</th>\n",
       "      <th>AveBedrms</th>\n",
       "      <th>Population</th>\n",
       "      <th>AveOccup</th>\n",
       "      <th>Latitude</th>\n",
       "      <th>Longitude</th>\n",
       "      <th>MedHouseVal</th>\n",
       "    </tr>\n",
       "  </thead>\n",
       "  <tbody>\n",
       "    <tr>\n",
       "      <th>0</th>\n",
       "      <td>8.3252</td>\n",
       "      <td>41.0</td>\n",
       "      <td>6.984127</td>\n",
       "      <td>1.023810</td>\n",
       "      <td>322.0</td>\n",
       "      <td>2.555556</td>\n",
       "      <td>37.88</td>\n",
       "      <td>-122.23</td>\n",
       "      <td>4.526</td>\n",
       "    </tr>\n",
       "    <tr>\n",
       "      <th>1</th>\n",
       "      <td>8.3014</td>\n",
       "      <td>21.0</td>\n",
       "      <td>6.238137</td>\n",
       "      <td>0.971880</td>\n",
       "      <td>2401.0</td>\n",
       "      <td>2.109842</td>\n",
       "      <td>37.86</td>\n",
       "      <td>-122.22</td>\n",
       "      <td>3.585</td>\n",
       "    </tr>\n",
       "    <tr>\n",
       "      <th>2</th>\n",
       "      <td>7.2574</td>\n",
       "      <td>52.0</td>\n",
       "      <td>8.288136</td>\n",
       "      <td>1.073446</td>\n",
       "      <td>496.0</td>\n",
       "      <td>2.802260</td>\n",
       "      <td>37.85</td>\n",
       "      <td>-122.24</td>\n",
       "      <td>3.521</td>\n",
       "    </tr>\n",
       "    <tr>\n",
       "      <th>3</th>\n",
       "      <td>5.6431</td>\n",
       "      <td>52.0</td>\n",
       "      <td>5.817352</td>\n",
       "      <td>1.073059</td>\n",
       "      <td>558.0</td>\n",
       "      <td>2.547945</td>\n",
       "      <td>37.85</td>\n",
       "      <td>-122.25</td>\n",
       "      <td>3.413</td>\n",
       "    </tr>\n",
       "    <tr>\n",
       "      <th>4</th>\n",
       "      <td>3.8462</td>\n",
       "      <td>52.0</td>\n",
       "      <td>6.281853</td>\n",
       "      <td>1.081081</td>\n",
       "      <td>565.0</td>\n",
       "      <td>2.181467</td>\n",
       "      <td>37.85</td>\n",
       "      <td>-122.25</td>\n",
       "      <td>3.422</td>\n",
       "    </tr>\n",
       "    <tr>\n",
       "      <th>...</th>\n",
       "      <td>...</td>\n",
       "      <td>...</td>\n",
       "      <td>...</td>\n",
       "      <td>...</td>\n",
       "      <td>...</td>\n",
       "      <td>...</td>\n",
       "      <td>...</td>\n",
       "      <td>...</td>\n",
       "      <td>...</td>\n",
       "    </tr>\n",
       "    <tr>\n",
       "      <th>20635</th>\n",
       "      <td>1.5603</td>\n",
       "      <td>25.0</td>\n",
       "      <td>5.045455</td>\n",
       "      <td>1.133333</td>\n",
       "      <td>845.0</td>\n",
       "      <td>2.560606</td>\n",
       "      <td>39.48</td>\n",
       "      <td>-121.09</td>\n",
       "      <td>0.781</td>\n",
       "    </tr>\n",
       "    <tr>\n",
       "      <th>20636</th>\n",
       "      <td>2.5568</td>\n",
       "      <td>18.0</td>\n",
       "      <td>6.114035</td>\n",
       "      <td>1.315789</td>\n",
       "      <td>356.0</td>\n",
       "      <td>3.122807</td>\n",
       "      <td>39.49</td>\n",
       "      <td>-121.21</td>\n",
       "      <td>0.771</td>\n",
       "    </tr>\n",
       "    <tr>\n",
       "      <th>20637</th>\n",
       "      <td>1.7000</td>\n",
       "      <td>17.0</td>\n",
       "      <td>5.205543</td>\n",
       "      <td>1.120092</td>\n",
       "      <td>1007.0</td>\n",
       "      <td>2.325635</td>\n",
       "      <td>39.43</td>\n",
       "      <td>-121.22</td>\n",
       "      <td>0.923</td>\n",
       "    </tr>\n",
       "    <tr>\n",
       "      <th>20638</th>\n",
       "      <td>1.8672</td>\n",
       "      <td>18.0</td>\n",
       "      <td>5.329513</td>\n",
       "      <td>1.171920</td>\n",
       "      <td>741.0</td>\n",
       "      <td>2.123209</td>\n",
       "      <td>39.43</td>\n",
       "      <td>-121.32</td>\n",
       "      <td>0.847</td>\n",
       "    </tr>\n",
       "    <tr>\n",
       "      <th>20639</th>\n",
       "      <td>2.3886</td>\n",
       "      <td>16.0</td>\n",
       "      <td>5.254717</td>\n",
       "      <td>1.162264</td>\n",
       "      <td>1387.0</td>\n",
       "      <td>2.616981</td>\n",
       "      <td>39.37</td>\n",
       "      <td>-121.24</td>\n",
       "      <td>0.894</td>\n",
       "    </tr>\n",
       "  </tbody>\n",
       "</table>\n",
       "<p>20640 rows × 9 columns</p>\n",
       "</div>"
      ],
      "text/plain": [
       "       MedInc  HouseAge  AveRooms  AveBedrms  Population  AveOccup  Latitude  \\\n",
       "0      8.3252      41.0  6.984127   1.023810       322.0  2.555556     37.88   \n",
       "1      8.3014      21.0  6.238137   0.971880      2401.0  2.109842     37.86   \n",
       "2      7.2574      52.0  8.288136   1.073446       496.0  2.802260     37.85   \n",
       "3      5.6431      52.0  5.817352   1.073059       558.0  2.547945     37.85   \n",
       "4      3.8462      52.0  6.281853   1.081081       565.0  2.181467     37.85   \n",
       "...       ...       ...       ...        ...         ...       ...       ...   \n",
       "20635  1.5603      25.0  5.045455   1.133333       845.0  2.560606     39.48   \n",
       "20636  2.5568      18.0  6.114035   1.315789       356.0  3.122807     39.49   \n",
       "20637  1.7000      17.0  5.205543   1.120092      1007.0  2.325635     39.43   \n",
       "20638  1.8672      18.0  5.329513   1.171920       741.0  2.123209     39.43   \n",
       "20639  2.3886      16.0  5.254717   1.162264      1387.0  2.616981     39.37   \n",
       "\n",
       "       Longitude  MedHouseVal  \n",
       "0        -122.23        4.526  \n",
       "1        -122.22        3.585  \n",
       "2        -122.24        3.521  \n",
       "3        -122.25        3.413  \n",
       "4        -122.25        3.422  \n",
       "...          ...          ...  \n",
       "20635    -121.09        0.781  \n",
       "20636    -121.21        0.771  \n",
       "20637    -121.22        0.923  \n",
       "20638    -121.32        0.847  \n",
       "20639    -121.24        0.894  \n",
       "\n",
       "[20640 rows x 9 columns]"
      ]
     },
     "execution_count": 83,
     "metadata": {},
     "output_type": "execute_result"
    }
   ],
   "source": [
    "import pandas as pd\n",
    "from sklearn.datasets import fetch_california_housing\n",
    "data = fetch_california_housing(as_frame=True)\n",
    "#frame = pd.DataFrame(data.data, columns=data.feature_names)\n",
    "frame = data.frame\n",
    "frame"
   ]
  },
  {
   "cell_type": "markdown",
   "id": "6c08300b-95a3-4cbb-aa12-b6d3ee85221a",
   "metadata": {},
   "source": [
    "# 8.\n",
    "Использовать метод info()"
   ]
  },
  {
   "cell_type": "code",
   "execution_count": 85,
   "id": "4fb31340-7a70-4b00-87f9-8c3d8d9401c2",
   "metadata": {},
   "outputs": [
    {
     "name": "stdout",
     "output_type": "stream",
     "text": [
      "<class 'pandas.core.frame.DataFrame'>\n",
      "RangeIndex: 20640 entries, 0 to 20639\n",
      "Data columns (total 9 columns):\n",
      " #   Column       Non-Null Count  Dtype  \n",
      "---  ------       --------------  -----  \n",
      " 0   MedInc       20640 non-null  float64\n",
      " 1   HouseAge     20640 non-null  float64\n",
      " 2   AveRooms     20640 non-null  float64\n",
      " 3   AveBedrms    20640 non-null  float64\n",
      " 4   Population   20640 non-null  float64\n",
      " 5   AveOccup     20640 non-null  float64\n",
      " 6   Latitude     20640 non-null  float64\n",
      " 7   Longitude    20640 non-null  float64\n",
      " 8   MedHouseVal  20640 non-null  float64\n",
      "dtypes: float64(9)\n",
      "memory usage: 1.4 MB\n"
     ]
    }
   ],
   "source": [
    "frame.info()"
   ]
  },
  {
   "cell_type": "markdown",
   "id": "645246b2-a178-4434-b1ab-f86d3ae070d5",
   "metadata": {},
   "source": [
    "# 9.\n",
    "Узнать, есть ли пропущенные значения, используя isna().sum()"
   ]
  },
  {
   "cell_type": "code",
   "execution_count": 87,
   "id": "f07a92ca-bf72-4f90-9205-4269250084af",
   "metadata": {},
   "outputs": [
    {
     "name": "stdout",
     "output_type": "stream",
     "text": [
      "MedInc         0\n",
      "HouseAge       0\n",
      "AveRooms       0\n",
      "AveBedrms      0\n",
      "Population     0\n",
      "AveOccup       0\n",
      "Latitude       0\n",
      "Longitude      0\n",
      "MedHouseVal    0\n",
      "dtype: int64\n"
     ]
    }
   ],
   "source": [
    "print(frame.isna().sum())"
   ]
  },
  {
   "cell_type": "markdown",
   "id": "6e1dca03-f4fb-4707-99a4-9e803664f93b",
   "metadata": {},
   "source": [
    "# 10.\n",
    "Вывести записи, где средний возраст домов в районе более 50 лет и\n",
    "население более 2500 человек, используя метод loc()."
   ]
  },
  {
   "cell_type": "code",
   "execution_count": 89,
   "id": "6e52dcee-7595-4815-954e-55c2872909c9",
   "metadata": {},
   "outputs": [
    {
     "data": {
      "text/html": [
       "<div>\n",
       "<style scoped>\n",
       "    .dataframe tbody tr th:only-of-type {\n",
       "        vertical-align: middle;\n",
       "    }\n",
       "\n",
       "    .dataframe tbody tr th {\n",
       "        vertical-align: top;\n",
       "    }\n",
       "\n",
       "    .dataframe thead th {\n",
       "        text-align: right;\n",
       "    }\n",
       "</style>\n",
       "<table border=\"1\" class=\"dataframe\">\n",
       "  <thead>\n",
       "    <tr style=\"text-align: right;\">\n",
       "      <th></th>\n",
       "      <th>MedInc</th>\n",
       "      <th>HouseAge</th>\n",
       "      <th>AveRooms</th>\n",
       "      <th>AveBedrms</th>\n",
       "      <th>Population</th>\n",
       "      <th>AveOccup</th>\n",
       "      <th>Latitude</th>\n",
       "      <th>Longitude</th>\n",
       "      <th>MedHouseVal</th>\n",
       "    </tr>\n",
       "  </thead>\n",
       "  <tbody>\n",
       "    <tr>\n",
       "      <th>460</th>\n",
       "      <td>1.4012</td>\n",
       "      <td>52.0</td>\n",
       "      <td>3.105714</td>\n",
       "      <td>1.060000</td>\n",
       "      <td>3337.0</td>\n",
       "      <td>9.534286</td>\n",
       "      <td>37.87</td>\n",
       "      <td>-122.26</td>\n",
       "      <td>1.75000</td>\n",
       "    </tr>\n",
       "    <tr>\n",
       "      <th>4131</th>\n",
       "      <td>3.5349</td>\n",
       "      <td>52.0</td>\n",
       "      <td>4.646119</td>\n",
       "      <td>1.047945</td>\n",
       "      <td>2589.0</td>\n",
       "      <td>5.910959</td>\n",
       "      <td>34.13</td>\n",
       "      <td>-118.20</td>\n",
       "      <td>1.93600</td>\n",
       "    </tr>\n",
       "    <tr>\n",
       "      <th>4440</th>\n",
       "      <td>2.6806</td>\n",
       "      <td>52.0</td>\n",
       "      <td>4.806283</td>\n",
       "      <td>1.057592</td>\n",
       "      <td>3062.0</td>\n",
       "      <td>4.007853</td>\n",
       "      <td>34.08</td>\n",
       "      <td>-118.21</td>\n",
       "      <td>1.53000</td>\n",
       "    </tr>\n",
       "    <tr>\n",
       "      <th>5986</th>\n",
       "      <td>1.8750</td>\n",
       "      <td>52.0</td>\n",
       "      <td>4.500000</td>\n",
       "      <td>1.206349</td>\n",
       "      <td>2688.0</td>\n",
       "      <td>21.333333</td>\n",
       "      <td>34.10</td>\n",
       "      <td>-117.71</td>\n",
       "      <td>2.12500</td>\n",
       "    </tr>\n",
       "    <tr>\n",
       "      <th>7369</th>\n",
       "      <td>3.1901</td>\n",
       "      <td>52.0</td>\n",
       "      <td>4.730942</td>\n",
       "      <td>1.017937</td>\n",
       "      <td>3731.0</td>\n",
       "      <td>4.182735</td>\n",
       "      <td>33.97</td>\n",
       "      <td>-118.21</td>\n",
       "      <td>1.67600</td>\n",
       "    </tr>\n",
       "    <tr>\n",
       "      <th>8227</th>\n",
       "      <td>2.3305</td>\n",
       "      <td>52.0</td>\n",
       "      <td>3.488860</td>\n",
       "      <td>1.170380</td>\n",
       "      <td>3018.0</td>\n",
       "      <td>3.955439</td>\n",
       "      <td>33.78</td>\n",
       "      <td>-118.20</td>\n",
       "      <td>1.62500</td>\n",
       "    </tr>\n",
       "    <tr>\n",
       "      <th>13034</th>\n",
       "      <td>6.1359</td>\n",
       "      <td>52.0</td>\n",
       "      <td>8.275862</td>\n",
       "      <td>1.517241</td>\n",
       "      <td>6675.0</td>\n",
       "      <td>230.172414</td>\n",
       "      <td>38.69</td>\n",
       "      <td>-121.15</td>\n",
       "      <td>2.25000</td>\n",
       "    </tr>\n",
       "    <tr>\n",
       "      <th>15634</th>\n",
       "      <td>1.8295</td>\n",
       "      <td>52.0</td>\n",
       "      <td>2.628169</td>\n",
       "      <td>1.053521</td>\n",
       "      <td>2957.0</td>\n",
       "      <td>4.164789</td>\n",
       "      <td>37.80</td>\n",
       "      <td>-122.41</td>\n",
       "      <td>2.43800</td>\n",
       "    </tr>\n",
       "    <tr>\n",
       "      <th>15652</th>\n",
       "      <td>0.9000</td>\n",
       "      <td>52.0</td>\n",
       "      <td>2.237474</td>\n",
       "      <td>1.053535</td>\n",
       "      <td>3260.0</td>\n",
       "      <td>2.237474</td>\n",
       "      <td>37.80</td>\n",
       "      <td>-122.41</td>\n",
       "      <td>5.00001</td>\n",
       "    </tr>\n",
       "    <tr>\n",
       "      <th>15657</th>\n",
       "      <td>2.5166</td>\n",
       "      <td>52.0</td>\n",
       "      <td>2.839075</td>\n",
       "      <td>1.184049</td>\n",
       "      <td>3436.0</td>\n",
       "      <td>1.621520</td>\n",
       "      <td>37.79</td>\n",
       "      <td>-122.41</td>\n",
       "      <td>2.75000</td>\n",
       "    </tr>\n",
       "    <tr>\n",
       "      <th>15659</th>\n",
       "      <td>1.7240</td>\n",
       "      <td>52.0</td>\n",
       "      <td>2.278566</td>\n",
       "      <td>1.082348</td>\n",
       "      <td>4518.0</td>\n",
       "      <td>1.780142</td>\n",
       "      <td>37.79</td>\n",
       "      <td>-122.41</td>\n",
       "      <td>2.25000</td>\n",
       "    </tr>\n",
       "    <tr>\n",
       "      <th>15795</th>\n",
       "      <td>2.5755</td>\n",
       "      <td>52.0</td>\n",
       "      <td>3.402576</td>\n",
       "      <td>1.058776</td>\n",
       "      <td>2619.0</td>\n",
       "      <td>2.108696</td>\n",
       "      <td>37.77</td>\n",
       "      <td>-122.42</td>\n",
       "      <td>3.25000</td>\n",
       "    </tr>\n",
       "    <tr>\n",
       "      <th>15868</th>\n",
       "      <td>2.8135</td>\n",
       "      <td>52.0</td>\n",
       "      <td>4.584329</td>\n",
       "      <td>1.041169</td>\n",
       "      <td>2987.0</td>\n",
       "      <td>3.966799</td>\n",
       "      <td>37.76</td>\n",
       "      <td>-122.41</td>\n",
       "      <td>2.60300</td>\n",
       "    </tr>\n",
       "  </tbody>\n",
       "</table>\n",
       "</div>"
      ],
      "text/plain": [
       "       MedInc  HouseAge  AveRooms  AveBedrms  Population    AveOccup  \\\n",
       "460    1.4012      52.0  3.105714   1.060000      3337.0    9.534286   \n",
       "4131   3.5349      52.0  4.646119   1.047945      2589.0    5.910959   \n",
       "4440   2.6806      52.0  4.806283   1.057592      3062.0    4.007853   \n",
       "5986   1.8750      52.0  4.500000   1.206349      2688.0   21.333333   \n",
       "7369   3.1901      52.0  4.730942   1.017937      3731.0    4.182735   \n",
       "8227   2.3305      52.0  3.488860   1.170380      3018.0    3.955439   \n",
       "13034  6.1359      52.0  8.275862   1.517241      6675.0  230.172414   \n",
       "15634  1.8295      52.0  2.628169   1.053521      2957.0    4.164789   \n",
       "15652  0.9000      52.0  2.237474   1.053535      3260.0    2.237474   \n",
       "15657  2.5166      52.0  2.839075   1.184049      3436.0    1.621520   \n",
       "15659  1.7240      52.0  2.278566   1.082348      4518.0    1.780142   \n",
       "15795  2.5755      52.0  3.402576   1.058776      2619.0    2.108696   \n",
       "15868  2.8135      52.0  4.584329   1.041169      2987.0    3.966799   \n",
       "\n",
       "       Latitude  Longitude  MedHouseVal  \n",
       "460       37.87    -122.26      1.75000  \n",
       "4131      34.13    -118.20      1.93600  \n",
       "4440      34.08    -118.21      1.53000  \n",
       "5986      34.10    -117.71      2.12500  \n",
       "7369      33.97    -118.21      1.67600  \n",
       "8227      33.78    -118.20      1.62500  \n",
       "13034     38.69    -121.15      2.25000  \n",
       "15634     37.80    -122.41      2.43800  \n",
       "15652     37.80    -122.41      5.00001  \n",
       "15657     37.79    -122.41      2.75000  \n",
       "15659     37.79    -122.41      2.25000  \n",
       "15795     37.77    -122.42      3.25000  \n",
       "15868     37.76    -122.41      2.60300  "
      ]
     },
     "execution_count": 89,
     "metadata": {},
     "output_type": "execute_result"
    }
   ],
   "source": [
    "frame.loc[(frame['HouseAge'] > 50) & (frame['Population'] > 2500)]"
   ]
  },
  {
   "cell_type": "markdown",
   "id": "fd0ae49e-0be3-413e-bf61-91078b89bbec",
   "metadata": {},
   "source": [
    "# 11.\n",
    "Узнать максимальное и минимальное значения медианной стоимости дома."
   ]
  },
  {
   "cell_type": "code",
   "execution_count": 91,
   "id": "095e890a-13a9-41fc-9d81-0410e8af619a",
   "metadata": {},
   "outputs": [
    {
     "name": "stdout",
     "output_type": "stream",
     "text": [
      "5.00001\n"
     ]
    }
   ],
   "source": [
    "print(frame[\"MedHouseVal\"].max())"
   ]
  },
  {
   "cell_type": "code",
   "execution_count": 93,
   "id": "f0131200-e873-41bc-bf36-3049db332261",
   "metadata": {},
   "outputs": [
    {
     "name": "stdout",
     "output_type": "stream",
     "text": [
      "0.14999\n"
     ]
    }
   ],
   "source": [
    "print(frame[\"MedHouseVal\"].min())"
   ]
  },
  {
   "cell_type": "markdown",
   "id": "f473e3d9-bf97-44a3-bdd0-94f4c336b0b7",
   "metadata": {},
   "source": [
    "# 12.\n",
    "Используя метод apply(), вывести на экран название признака и его\n",
    "среднее значение"
   ]
  },
  {
   "cell_type": "code",
   "execution_count": 95,
   "id": "872fcbe2-a14b-4f23-9348-d5aec15e242d",
   "metadata": {},
   "outputs": [
    {
     "name": "stdout",
     "output_type": "stream",
     "text": [
      "MedInc  -  3.8706710029069766\n",
      "HouseAge  -  28.639486434108527\n",
      "AveRooms  -  5.428999742190376\n",
      "AveBedrms  -  1.096675149606208\n",
      "Population  -  1425.4767441860465\n",
      "AveOccup  -  3.0706551594363742\n",
      "Latitude  -  35.63186143410853\n",
      "Longitude  -  -119.56970445736432\n",
      "MedHouseVal  -  2.068558169089147\n"
     ]
    }
   ],
   "source": [
    "frame_mean = frame.apply(lambda x: x.mean())\n",
    "for feature, mean in frame_mean.items():\n",
    "    print(feature, \" - \", mean)"
   ]
  },
  {
   "cell_type": "markdown",
   "id": "016515b4-7504-4de0-8f39-1e2985dac106",
   "metadata": {},
   "source": [
    "# 1.*\n",
    "Дан текст на английском языке. Необходимо закодировать его с\n",
    "помощью азбуки Морзе, где каждой букве соответствует\n",
    "последовательность точек и тире. Например, буква «g» превратится в\n",
    "строку «--.». В переменной morze для удобства хранится словарь\n",
    "соответствия латинских букв коду Морзе."
   ]
  },
  {
   "cell_type": "code",
   "execution_count": 97,
   "id": "e9dae1b4-85de-4684-94b3-f178a7730bcd",
   "metadata": {},
   "outputs": [],
   "source": [
    "morze = {'a': '.-', 'b': '-…', 'c': '-.-.', 'd': '-..',\n",
    "'e': '.', 'f': '..-.', 'g': '--.', 'h': '….',\n",
    "'i': '..', 'j': '.---', 'k': '-.-', 'l': '.-..',\n",
    "'m': '--', 'n': '-.', 'o': '---', 'p': '.--.',\n",
    "'q': '--.-', 'r': '.-.', 's': '…', 't': '-',\n",
    "'u': '..-', 'v': '…-', 'w': '.--', 'x': '-..-',\n",
    "'y': '-.--', 'z': '--..'}"
   ]
  },
  {
   "cell_type": "code",
   "execution_count": 103,
   "id": "3a4a51e8-8d99-4e94-9d0b-4ac196d4ae87",
   "metadata": {},
   "outputs": [
    {
     "name": "stdin",
     "output_type": "stream",
     "text": [
      " Ignition sequence start\n"
     ]
    },
    {
     "name": "stdout",
     "output_type": "stream",
     "text": [
      ".. --. -. .. - .. --- -. \n",
      " … . --.- ..- . -. -.-. . \n",
      " … - .- .-. - "
     ]
    }
   ],
   "source": [
    "morze[' '] = '\\n'\n",
    "text = input().lower()\n",
    "for symbol in text:\n",
    "    print(morze[symbol], end=' ')"
   ]
  },
  {
   "cell_type": "markdown",
   "id": "3f4364a8-b8ee-4317-9b56-635206d209e6",
   "metadata": {},
   "source": [
    "# 2.*\n",
    "В некотором городе открывается новая служба по доставке электронных\n",
    "писем. Необходимо наладить систему регистрации новых\n",
    "пользователей.\n",
    "Регистрация должна работать следующим образом: если новый\n",
    "пользователь хочет зарегистрироваться на сайте, то он должен послать\n",
    "системе запрос name со своим именем. Система должна определить,\n",
    "существует ли уже такое имя в базе данных. Если такого имени не\n",
    "существует, то оно заносится в базу данных системы и пользователю\n",
    "возвращается ответ \"ОК\", подтверждающий успешную регистрацию. А\n",
    "если пользователь с таким именем уже существует, то система должна\n",
    "сформировать новое имя и выдать его пользователю в качестве\n",
    "подсказки, при этом сама подсказка также добавляется в базу данных.\n",
    "Новое имя формируется следующим образом: к name последовательно\n",
    "приписываются числа, начиная с 1 (name1, name2 и так далее), и среди\n",
    "них находят такое наименьшее i, что namei еще не содержится в системе."
   ]
  },
  {
   "cell_type": "code",
   "execution_count": 111,
   "id": "af4a0e1d-ed00-4007-8aeb-2379f5aadd22",
   "metadata": {},
   "outputs": [
    {
     "name": "stdin",
     "output_type": "stream",
     "text": [
      " 10\n",
      " fpqhfouqdldravpjttarh\n"
     ]
    },
    {
     "name": "stdout",
     "output_type": "stream",
     "text": [
      "OK\n"
     ]
    },
    {
     "name": "stdin",
     "output_type": "stream",
     "text": [
      " fpqhfouqdldravpjttarh\n"
     ]
    },
    {
     "name": "stdout",
     "output_type": "stream",
     "text": [
      "fpqhfouqdldravpjttarh1\n"
     ]
    },
    {
     "name": "stdin",
     "output_type": "stream",
     "text": [
      " fpqhfouqdldravpjttarh\n"
     ]
    },
    {
     "name": "stdout",
     "output_type": "stream",
     "text": [
      "fpqhfouqdldravpjttarh2\n"
     ]
    },
    {
     "name": "stdin",
     "output_type": "stream",
     "text": [
      " fpqhfouqdldravpjttarh\n"
     ]
    },
    {
     "name": "stdout",
     "output_type": "stream",
     "text": [
      "fpqhfouqdldravpjttarh3\n"
     ]
    },
    {
     "name": "stdin",
     "output_type": "stream",
     "text": [
      " fpqhfouqdldravpjttarh\n"
     ]
    },
    {
     "name": "stdout",
     "output_type": "stream",
     "text": [
      "fpqhfouqdldravpjttarh4\n"
     ]
    },
    {
     "name": "stdin",
     "output_type": "stream",
     "text": [
      " fpqhfouqdldravpjttarh\n"
     ]
    },
    {
     "name": "stdout",
     "output_type": "stream",
     "text": [
      "fpqhfouqdldravpjttarh5\n"
     ]
    },
    {
     "name": "stdin",
     "output_type": "stream",
     "text": [
      " jmvlplnrmba\n"
     ]
    },
    {
     "name": "stdout",
     "output_type": "stream",
     "text": [
      "OK\n"
     ]
    },
    {
     "name": "stdin",
     "output_type": "stream",
     "text": [
      " fpqhfouqdldravpjttarh\n"
     ]
    },
    {
     "name": "stdout",
     "output_type": "stream",
     "text": [
      "fpqhfouqdldravpjttarh6\n"
     ]
    },
    {
     "name": "stdin",
     "output_type": "stream",
     "text": [
      " jmvlplnrmba\n"
     ]
    },
    {
     "name": "stdout",
     "output_type": "stream",
     "text": [
      "jmvlplnrmba1\n"
     ]
    },
    {
     "name": "stdin",
     "output_type": "stream",
     "text": [
      " fpqhfouqdldravpjttarh\n"
     ]
    },
    {
     "name": "stdout",
     "output_type": "stream",
     "text": [
      "fpqhfouqdldravpjttarh7\n"
     ]
    }
   ],
   "source": [
    "users = {}\n",
    "for i in range(int(input())):\n",
    "    name = input()\n",
    "    if (users.get(name) == None):\n",
    "        print('OK')\n",
    "        users[name] = 1\n",
    "    else:\n",
    "        print(name, users[name], sep='')\n",
    "        users[name] += 1"
   ]
  },
  {
   "cell_type": "markdown",
   "id": "b6c12df2-c8c4-47ab-8f38-e653bfc59d79",
   "metadata": {},
   "source": [
    "# 3.*\n",
    "Необходимо создать программу обработки запросов пользователей к\n",
    "файловой системе компьютера. Над каждым файлом можно производить\n",
    "следующие действия: запись – w (\"write\"), чтение – r (\"read\"), запуск – x\n",
    "(\"execute\")."
   ]
  },
  {
   "cell_type": "code",
   "execution_count": 113,
   "id": "2ce7794e-d2ea-43c4-840b-4bc50fed0c53",
   "metadata": {},
   "outputs": [
    {
     "name": "stdin",
     "output_type": "stream",
     "text": [
      " 3\n",
      " python.exe x\n",
      " book.txt r w\n",
      " notebook.exe r w x\n",
      " 5\n",
      " read python.exe\n"
     ]
    },
    {
     "name": "stdout",
     "output_type": "stream",
     "text": [
      "Access denied\n"
     ]
    },
    {
     "name": "stdin",
     "output_type": "stream",
     "text": [
      " read book.txt\n"
     ]
    },
    {
     "name": "stdout",
     "output_type": "stream",
     "text": [
      "OK\n"
     ]
    },
    {
     "name": "stdin",
     "output_type": "stream",
     "text": [
      " write notebook.exe\n"
     ]
    },
    {
     "name": "stdout",
     "output_type": "stream",
     "text": [
      "OK\n"
     ]
    },
    {
     "name": "stdin",
     "output_type": "stream",
     "text": [
      " execute notebook.exe\n"
     ]
    },
    {
     "name": "stdout",
     "output_type": "stream",
     "text": [
      "OK\n"
     ]
    },
    {
     "name": "stdin",
     "output_type": "stream",
     "text": [
      " write book.txt\n"
     ]
    },
    {
     "name": "stdout",
     "output_type": "stream",
     "text": [
      "OK\n"
     ]
    }
   ],
   "source": [
    "files = {}\n",
    "dict = {\"read\": \"r\", \"write\": \"w\", \"execute\": \"x\"}\n",
    "for i in range(int(input())):\n",
    "    file = input().split()\n",
    "    filename = file[0]\n",
    "    files[filename] = file[1::]\n",
    "for i in range(int(input())):\n",
    "    command, filename = input().split()\n",
    "    accesses = files[filename]\n",
    "    command = dict.get(command)\n",
    "    if (accesses != None and accesses.count(command) == 1):\n",
    "        print('OK')\n",
    "    else:\n",
    "        print('Access denied')"
   ]
  }
 ],
 "metadata": {
  "kernelspec": {
   "display_name": "Python 3 (ipykernel)",
   "language": "python",
   "name": "python3"
  },
  "language_info": {
   "codemirror_mode": {
    "name": "ipython",
    "version": 3
   },
   "file_extension": ".py",
   "mimetype": "text/x-python",
   "name": "python",
   "nbconvert_exporter": "python",
   "pygments_lexer": "ipython3",
   "version": "3.12.4"
  }
 },
 "nbformat": 4,
 "nbformat_minor": 5
}
